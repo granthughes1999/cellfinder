{
 "cells": [
  {
   "cell_type": "code",
   "execution_count": 20,
   "id": "97d3d3a1",
   "metadata": {},
   "outputs": [],
   "source": [
    "import pandas as pd\n",
    "import matplotlib.pyplot as plt\n",
    "import numpy as np\n",
    "import random\n",
    "import os\n",
    "from scipy import stats\n",
    "import pickle\n",
    "import xml.etree.ElementTree as ET"
   ]
  },
  {
   "cell_type": "markdown",
   "id": "1756db18",
   "metadata": {},
   "source": [
    "# Update these 2 variables"
   ]
  },
  {
   "cell_type": "code",
   "execution_count": 74,
   "id": "4951c3e3",
   "metadata": {},
   "outputs": [],
   "source": [
    "# cellfinder_output_path = 'path/to/root/directory/of/cellfinder/output/data/'\n",
    "mouse_id = \"test_000\"\n",
    "cellfinder_output_path = \"/Users/grant/Desktop/mock_df/cellfinder_output/\"\n"
   ]
  },
  {
   "cell_type": "markdown",
   "id": "550e526d",
   "metadata": {},
   "source": [
    "### Create new folder in your cellfinder output folder \n"
   ]
  },
  {
   "cell_type": "code",
   "execution_count": 80,
   "id": "f00e245c",
   "metadata": {},
   "outputs": [
    {
     "name": "stdout",
     "output_type": "stream",
     "text": [
      "/Users/grant/Desktop/mock_df/cellfinder_output/Completed_Analysis already exists, skipping...\n"
     ]
    }
   ],
   "source": [
    "# Create new folder in your cellfinder output folder \n",
    "new_folder_path = cellfinder_output_path + \"Completed_Analysis\" # create the path for the new folder\n",
    "\n",
    "if not os.path.exists(new_folder_path):\n",
    "    os.makedirs(new_folder_path)\n",
    "    print(f'{new_folder_path} has been created.')\n",
    "else:\n",
    "    print(f'{new_folder_path} already exists, skipping...')\n",
    "\n"
   ]
  },
  {
   "cell_type": "markdown",
   "id": "c761b8dd",
   "metadata": {},
   "source": [
    "### Read in tdTomato & GFP output data from cellfinder"
   ]
  },
  {
   "cell_type": "code",
   "execution_count": 53,
   "id": "b5eb907e",
   "metadata": {},
   "outputs": [],
   "source": [
    "# import cellfinder summary csv, containing cell counts and more \n",
    "gfp_df = pd.read_csv(cellfinder_output_path + 'analysis/' + 'gfp_summary.csv')\n",
    "tdTomato_df = pd.read_csv(cellfinder_output_path + 'analysis/' + 'tdTomato_summary.csv')\n",
    "\n",
    "# output path for created csv\n",
    "output_path_csv = new_folder_path + '/' + mouse_id + '_labled_cells.csv'\n"
   ]
  },
  {
   "cell_type": "markdown",
   "id": "c24eacbb",
   "metadata": {},
   "source": [
    "# GFP Data"
   ]
  },
  {
   "cell_type": "code",
   "execution_count": 44,
   "id": "6e1e67f8",
   "metadata": {},
   "outputs": [
    {
     "name": "stdout",
     "output_type": "stream",
     "text": [
      "All Brain Regions: 668\n",
      "total cells: 68313.0\n"
     ]
    }
   ],
   "source": [
    "# make list of each brain region with labeled cells\n",
    "all_gfp_brain_regions = gfp_df['structure_name'].to_list()\n",
    "print(\"All Brain Regions: \" + str(len(all_gfp_brain_regions)))\n",
    "\n",
    "# make a list of total cell count for each brain region labeled with GFP\n",
    "all_gfp_brain_regions_cell_count = gfp_df['total_cells'].to_list()\n",
    "print(\"total cells: \" + str(sum(all_gfp_brain_regions_cell_count)))\n",
    "\n",
    "# make dict of brain_regions & cell_count\n",
    "all_gfp_dictionary = dict(zip(all_gfp_brain_regions, all_gfp_brain_regions_cell_count))\n",
    "all_gfp_df = pd.DataFrame.from_dict(all_gfp_dictionary,orient='index')"
   ]
  },
  {
   "cell_type": "code",
   "execution_count": 57,
   "id": "c6ad05ab",
   "metadata": {},
   "outputs": [
    {
     "name": "stdout",
     "output_type": "stream",
     "text": [
      "GFP Brain Regions With labeled Cells: 308\n",
      "total labeled GFP cells: 68313.0\n"
     ]
    }
   ],
   "source": [
    "# Find all brain regions with labeled gfp cells, make gfp_df\n",
    "gfp_cells_df = gfp_df[gfp_df['total_cells'] >= 1]\n",
    "\n",
    "# make list of each brain region with labeled cells\n",
    "gfp_brain_regions = gfp_cells_df['structure_name'].to_list()\n",
    "gfp_brain_regions_sum = len(gfp_brain_regions)\n",
    "print(\"GFP Brain Regions With labeled Cells: \" + str(gfp_brain_regions_sum))\n",
    "\n",
    "# make a list of total cell count for each brain region labeled with GFP\n",
    "gfp_brain_regions_cell_count = gfp_cells_df['total_cells'].to_list()\n",
    "gfp_labled_cells_sum = sum(gfp_brain_regions_cell_count)\n",
    "print(\"total labeled GFP cells: \" + str(gfp_labled_cells_sum ))\n",
    "\n",
    "# make dict of brain_regions & cell_count\n",
    "gfp_dictionary = dict(zip(gfp_brain_regions, gfp_brain_regions_cell_count))\n",
    "gfp_df_01 = pd.DataFrame.from_dict(gfp_dictionary,orient='index')\n",
    "\n"
   ]
  },
  {
   "cell_type": "markdown",
   "id": "b159ec5c",
   "metadata": {},
   "source": [
    "# tdTomato Data"
   ]
  },
  {
   "cell_type": "code",
   "execution_count": 46,
   "id": "c3d6c822",
   "metadata": {},
   "outputs": [
    {
     "name": "stdout",
     "output_type": "stream",
     "text": [
      "All Brain Regions: 668\n",
      "total cells: 34938475\n"
     ]
    }
   ],
   "source": [
    "\n",
    "# make list of each brain region with labeled cells\n",
    "all_tdTomato_brain_regions = tdTomato_df['structure_name'].to_list()\n",
    "print(\"All Brain Regions: \" + str(len(all_tdTomato_brain_regions)))\n",
    "\n",
    "# make a list of total cell count for each brain region labeled with GFP\n",
    "all_tdTomato_brain_regions_cell_count = tdTomato_df['total_cells'].to_list()\n",
    "print(\"total cells: \" + str(sum(all_tdTomato_brain_regions_cell_count)))\n",
    "\n",
    "# make dict of brain_regions & cell_count\n",
    "all_tdTomato_dictionary = dict(zip(all_tdTomato_brain_regions, all_tdTomato_brain_regions_cell_count))\n",
    "all_tdTomato_df = pd.DataFrame.from_dict(all_tdTomato_dictionary,orient='index')\n"
   ]
  },
  {
   "cell_type": "code",
   "execution_count": 55,
   "id": "17db1d4e",
   "metadata": {},
   "outputs": [
    {
     "name": "stdout",
     "output_type": "stream",
     "text": [
      "tdTomato Brain Regions With labeled Cells: 668\n",
      "total labeled tdTomato cells: 34938475\n"
     ]
    }
   ],
   "source": [
    "# create a dictonary of only the \n",
    "# Find all brain regions with labeled gfp cells, make gfp_df\n",
    "tdTomato_cells_df = tdTomato_df[tdTomato_df['total_cells'] >= 1]\n",
    "\n",
    "# make list of each brain region with labeled cells\n",
    "tdTomato_brain_regions = tdTomato_cells_df['structure_name'].to_list()\n",
    "tdTomato_brain_regions_sum = len(tdTomato_brain_regions)\n",
    "print(\"tdTomato Brain Regions With labeled Cells: \" + str(tdTomato_brain_regions_sum))\n",
    "\n",
    "# make a list of total cell count for each brain region labeled with GFP\n",
    "tdTomato_brain_regions_cell_count = tdTomato_cells_df['total_cells'].to_list()\n",
    "tdTomato_labled_cells_sum = sum(tdTomato_brain_regions_cell_count)\n",
    "print(\"total labeled tdTomato cells: \" + str(tdTomato_labled_cells_sum))\n",
    "\n",
    "# make dict of brain_regions & cell_count\n",
    "tdTomato_dictionary = dict(zip(tdTomato_brain_regions, tdTomato_brain_regions_cell_count))\n",
    "tdTomato_df_01 = pd.DataFrame.from_dict(tdTomato_dictionary,orient='index')\n"
   ]
  },
  {
   "cell_type": "markdown",
   "id": "9d40cac6",
   "metadata": {},
   "source": [
    "## Create csv file with summary of gfp and tdTomato Cellcount and Brain Regions"
   ]
  },
  {
   "cell_type": "code",
   "execution_count": 68,
   "id": "14b69665",
   "metadata": {},
   "outputs": [
    {
     "data": {
      "text/html": [
       "<div>\n",
       "<style scoped>\n",
       "    .dataframe tbody tr th:only-of-type {\n",
       "        vertical-align: middle;\n",
       "    }\n",
       "\n",
       "    .dataframe tbody tr th {\n",
       "        vertical-align: top;\n",
       "    }\n",
       "\n",
       "    .dataframe thead th {\n",
       "        text-align: right;\n",
       "    }\n",
       "</style>\n",
       "<table border=\"1\" class=\"dataframe\">\n",
       "  <thead>\n",
       "    <tr style=\"text-align: right;\">\n",
       "      <th></th>\n",
       "      <th>total whole-brain cell count</th>\n",
       "      <th>total brain regions</th>\n",
       "      <th>brain regions list</th>\n",
       "    </tr>\n",
       "  </thead>\n",
       "  <tbody>\n",
       "    <tr>\n",
       "      <th>GFP</th>\n",
       "      <td>68313.0</td>\n",
       "      <td>308</td>\n",
       "      <td>[Olfactory tubercle, Piriform area, Retrosplen...</td>\n",
       "    </tr>\n",
       "    <tr>\n",
       "      <th>tdTomato</th>\n",
       "      <td>34938475.0</td>\n",
       "      <td>668</td>\n",
       "      <td>[Olfactory tubercle, Piriform area, Retrosplen...</td>\n",
       "    </tr>\n",
       "  </tbody>\n",
       "</table>\n",
       "</div>"
      ],
      "text/plain": [
       "          total whole-brain cell count  total brain regions  \\\n",
       "GFP                            68313.0                  308   \n",
       "tdTomato                    34938475.0                  668   \n",
       "\n",
       "                                         brain regions list  \n",
       "GFP       [Olfactory tubercle, Piriform area, Retrosplen...  \n",
       "tdTomato  [Olfactory tubercle, Piriform area, Retrosplen...  "
      ]
     },
     "execution_count": 68,
     "metadata": {},
     "output_type": "execute_result"
    }
   ],
   "source": [
    "data = {'total whole-brain cell count': [gfp_labled_cells_sum, tdTomato_labled_cells_sum],\n",
    "        'total brain regions': [gfp_brain_regions_sum,tdTomato_brain_regions_sum],\n",
    "        'brain regions list': [gfp_brain_regions,all_tdTomato_brain_regions]}\n",
    "\n",
    "summary_df = pd.DataFrame(data)\n",
    "summary_df.rename(index={0: 'GFP'}, inplace=True)\n",
    "summary_df.rename(index={1: 'tdTomato'}, inplace=True)\n",
    "\n",
    "# Save out summary df\n",
    "summary_df.to_csv(new_folder_path + '/' + mouse_id + '_summary_df.csv')\n",
    "\n",
    "\n",
    "summary_df"
   ]
  },
  {
   "cell_type": "code",
   "execution_count": null,
   "id": "0e91357e",
   "metadata": {},
   "outputs": [],
   "source": []
  },
  {
   "cell_type": "code",
   "execution_count": 48,
   "id": "e6c04399",
   "metadata": {},
   "outputs": [],
   "source": [
    "# making a df with percent of gfp cells labled compared to tdTomato\n",
    "percent_labled = []\n",
    "i = 0\n",
    "for count in all_tdTomato_brain_regions_cell_count:\n",
    "    percent_labled.append(all_gfp_brain_regions_cell_count[i] / count *100)\n",
    "    i += 1\n",
    "    "
   ]
  },
  {
   "cell_type": "markdown",
   "id": "f4fceecf",
   "metadata": {},
   "source": [
    "## df for percentage of labled gfp cells vs tdTomato cells"
   ]
  },
  {
   "cell_type": "code",
   "execution_count": 52,
   "id": "2009833a",
   "metadata": {},
   "outputs": [],
   "source": [
    "# create df with gfp and tdTomato cell counts, and percent labled\n",
    "all_gfp_df['tdTomato cell count'] = all_tdTomato_brain_regions_cell_count\n",
    "all_gfp_df['percent labled gfp/tdTomato'] = percent_labled\n",
    "\n",
    "\n",
    "# Add the header 'New Column Name' to column at index 0\n",
    "all_gfp_df.rename(columns={gfp_df_01.columns[0]: 'gfp cell count'}, inplace=True)\n"
   ]
  },
  {
   "cell_type": "code",
   "execution_count": 50,
   "id": "2d9f7ad1",
   "metadata": {},
   "outputs": [],
   "source": [
    "# Find all brain regions with labeled gfp cells, make gfp_df\n",
    "labled_cells_df = all_gfp_df[all_gfp_df['gfp cell count'] >= 1]\n",
    "labled_cells_df\n",
    "\n",
    "labled_cells_df.to_csv(output_path_csv)"
   ]
  },
  {
   "cell_type": "code",
   "execution_count": 51,
   "id": "9187f7e2",
   "metadata": {},
   "outputs": [
    {
     "data": {
      "text/html": [
       "<div>\n",
       "<style scoped>\n",
       "    .dataframe tbody tr th:only-of-type {\n",
       "        vertical-align: middle;\n",
       "    }\n",
       "\n",
       "    .dataframe tbody tr th {\n",
       "        vertical-align: top;\n",
       "    }\n",
       "\n",
       "    .dataframe thead th {\n",
       "        text-align: right;\n",
       "    }\n",
       "</style>\n",
       "<table border=\"1\" class=\"dataframe\">\n",
       "  <thead>\n",
       "    <tr style=\"text-align: right;\">\n",
       "      <th></th>\n",
       "      <th>gfp cell count</th>\n",
       "      <th>tdTomato cell count</th>\n",
       "      <th>percent labled gfp/tdTomato</th>\n",
       "    </tr>\n",
       "  </thead>\n",
       "  <tbody>\n",
       "    <tr>\n",
       "      <th>Olfactory tubercle</th>\n",
       "      <td>11937.0</td>\n",
       "      <td>50706</td>\n",
       "      <td>23.541593</td>\n",
       "    </tr>\n",
       "    <tr>\n",
       "      <th>Piriform area</th>\n",
       "      <td>11252.0</td>\n",
       "      <td>1188</td>\n",
       "      <td>947.138047</td>\n",
       "    </tr>\n",
       "    <tr>\n",
       "      <th>Retrosplenial area, dorsal part, layer 1</th>\n",
       "      <td>3446.0</td>\n",
       "      <td>16233</td>\n",
       "      <td>21.228362</td>\n",
       "    </tr>\n",
       "    <tr>\n",
       "      <th>Retrosplenial area, dorsal part, layer 2/3</th>\n",
       "      <td>2856.0</td>\n",
       "      <td>9762</td>\n",
       "      <td>29.256300</td>\n",
       "    </tr>\n",
       "    <tr>\n",
       "      <th>Retrosplenial area, lateral agranular part, layer 1</th>\n",
       "      <td>2342.0</td>\n",
       "      <td>84720</td>\n",
       "      <td>2.764400</td>\n",
       "    </tr>\n",
       "    <tr>\n",
       "      <th>...</th>\n",
       "      <td>...</td>\n",
       "      <td>...</td>\n",
       "      <td>...</td>\n",
       "    </tr>\n",
       "    <tr>\n",
       "      <th>Dorsal auditory area, layer 4</th>\n",
       "      <td>1.0</td>\n",
       "      <td>72495</td>\n",
       "      <td>0.001379</td>\n",
       "    </tr>\n",
       "    <tr>\n",
       "      <th>Primary somatosensory area, trunk, layer 4</th>\n",
       "      <td>1.0</td>\n",
       "      <td>13493</td>\n",
       "      <td>0.007411</td>\n",
       "    </tr>\n",
       "    <tr>\n",
       "      <th>Dentate gyrus, granule cell layer</th>\n",
       "      <td>1.0</td>\n",
       "      <td>32625</td>\n",
       "      <td>0.003065</td>\n",
       "    </tr>\n",
       "    <tr>\n",
       "      <th>Primary somatosensory area, unassigned, layer 6b</th>\n",
       "      <td>1.0</td>\n",
       "      <td>93513</td>\n",
       "      <td>0.001069</td>\n",
       "    </tr>\n",
       "    <tr>\n",
       "      <th>Nucleus of the trapezoid body</th>\n",
       "      <td>1.0</td>\n",
       "      <td>39848</td>\n",
       "      <td>0.002510</td>\n",
       "    </tr>\n",
       "  </tbody>\n",
       "</table>\n",
       "<p>308 rows × 3 columns</p>\n",
       "</div>"
      ],
      "text/plain": [
       "                                                    gfp cell count  \\\n",
       "Olfactory tubercle                                         11937.0   \n",
       "Piriform area                                              11252.0   \n",
       "Retrosplenial area, dorsal part, layer 1                    3446.0   \n",
       "Retrosplenial area, dorsal part, layer 2/3                  2856.0   \n",
       "Retrosplenial area, lateral agranular part, lay...          2342.0   \n",
       "...                                                            ...   \n",
       "Dorsal auditory area, layer 4                                  1.0   \n",
       "Primary somatosensory area, trunk, layer 4                     1.0   \n",
       "Dentate gyrus, granule cell layer                              1.0   \n",
       "Primary somatosensory area, unassigned, layer 6b               1.0   \n",
       "Nucleus of the trapezoid body                                  1.0   \n",
       "\n",
       "                                                    tdTomato cell count  \\\n",
       "Olfactory tubercle                                                50706   \n",
       "Piriform area                                                      1188   \n",
       "Retrosplenial area, dorsal part, layer 1                          16233   \n",
       "Retrosplenial area, dorsal part, layer 2/3                         9762   \n",
       "Retrosplenial area, lateral agranular part, lay...                84720   \n",
       "...                                                                 ...   \n",
       "Dorsal auditory area, layer 4                                     72495   \n",
       "Primary somatosensory area, trunk, layer 4                        13493   \n",
       "Dentate gyrus, granule cell layer                                 32625   \n",
       "Primary somatosensory area, unassigned, layer 6b                  93513   \n",
       "Nucleus of the trapezoid body                                     39848   \n",
       "\n",
       "                                                    percent labled gfp/tdTomato  \n",
       "Olfactory tubercle                                                    23.541593  \n",
       "Piriform area                                                        947.138047  \n",
       "Retrosplenial area, dorsal part, layer 1                              21.228362  \n",
       "Retrosplenial area, dorsal part, layer 2/3                            29.256300  \n",
       "Retrosplenial area, lateral agranular part, lay...                     2.764400  \n",
       "...                                                                         ...  \n",
       "Dorsal auditory area, layer 4                                          0.001379  \n",
       "Primary somatosensory area, trunk, layer 4                             0.007411  \n",
       "Dentate gyrus, granule cell layer                                      0.003065  \n",
       "Primary somatosensory area, unassigned, layer 6b                       0.001069  \n",
       "Nucleus of the trapezoid body                                          0.002510  \n",
       "\n",
       "[308 rows x 3 columns]"
      ]
     },
     "execution_count": 51,
     "metadata": {},
     "output_type": "execute_result"
    }
   ],
   "source": [
    "labled_cells_df"
   ]
  },
  {
   "cell_type": "markdown",
   "id": "335cd647",
   "metadata": {},
   "source": [
    "# There are several ways to statistically compare the values at each index location of two lists in Python. Here are a few options:\n",
    "\n",
    "### 1. Using the scipy library's stats.ttest_ind() function, you can perform a t-test to compare the means of the two lists at each index location. For example:"
   ]
  },
  {
   "cell_type": "code",
   "execution_count": 614,
   "id": "d3f7e698",
   "metadata": {},
   "outputs": [
    {
     "name": "stdout",
     "output_type": "stream",
     "text": [
      "t-statistic:  0.0\n",
      "p-value:  1.0\n"
     ]
    }
   ],
   "source": [
    "t, p = stats.ttest_ind(gfp_brain_regions_cell_count, mock_tdTomato_cellcount)\n",
    "print(\"t-statistic: \", t)\n",
    "print(\"p-value: \", p)"
   ]
  },
  {
   "cell_type": "markdown",
   "id": "2d437cb2",
   "metadata": {},
   "source": [
    "### 2. Using the numpy library's corrcoef() function, you can calculate the correlation coefficient between the two lists at each index location. For example:"
   ]
  },
  {
   "cell_type": "code",
   "execution_count": 615,
   "id": "e0d6b463",
   "metadata": {},
   "outputs": [
    {
     "name": "stdout",
     "output_type": "stream",
     "text": [
      "correlation coefficient:  -0.018119120257418263\n"
     ]
    }
   ],
   "source": [
    "\n",
    "corr = np.corrcoef(gfp_brain_regions_cell_count, mock_tdTomato_cellcount)[0, 1]\n",
    "print(\"correlation coefficient: \", corr)\n"
   ]
  },
  {
   "cell_type": "markdown",
   "id": "f4bc6ee3",
   "metadata": {},
   "source": [
    "### 3.  Using the pandas library, you can create a dataframe from the two lists and use the corr() function to calculate the correlation between the two lists:"
   ]
  },
  {
   "cell_type": "code",
   "execution_count": 616,
   "id": "7af7c8e1",
   "metadata": {},
   "outputs": [
    {
     "name": "stdout",
     "output_type": "stream",
     "text": [
      "correlation coefficient:  -0.018119120257418263\n"
     ]
    }
   ],
   "source": [
    "\n",
    "df = pd.DataFrame({'list1': gfp_brain_regions_cell_count, 'list2': mock_tdTomato_cellcount})\n",
    "corr = df['list1'].corr(df['list2'])\n",
    "print(\"correlation coefficient: \", corr)\n"
   ]
  },
  {
   "cell_type": "markdown",
   "id": "292528a0",
   "metadata": {},
   "source": [
    "# load voxel locations of cells "
   ]
  },
  {
   "cell_type": "code",
   "execution_count": 81,
   "id": "c3c809cf",
   "metadata": {},
   "outputs": [],
   "source": [
    "data = np.load(\"/Users/grant/Desktop/mock_df/points.npy\")"
   ]
  },
  {
   "cell_type": "code",
   "execution_count": 84,
   "id": "594e84cc",
   "metadata": {},
   "outputs": [
    {
     "name": "stdout",
     "output_type": "stream",
     "text": [
      "98726\n"
     ]
    }
   ],
   "source": [
    "print(len(data))"
   ]
  },
  {
   "cell_type": "markdown",
   "id": "54c1e063",
   "metadata": {},
   "source": [
    "# Load cell_classification data"
   ]
  },
  {
   "cell_type": "code",
   "execution_count": 87,
   "id": "b6442491",
   "metadata": {},
   "outputs": [],
   "source": [
    "tree = ET.parse(\"/Users/grant/Desktop/mock_df/cell_classification.xml\")\n",
    "root = tree.getroot()"
   ]
  },
  {
   "cell_type": "code",
   "execution_count": 91,
   "id": "e186dfe1",
   "metadata": {},
   "outputs": [
    {
     "name": "stdout",
     "output_type": "stream",
     "text": [
      "Image_Properties {}\n",
      "Marker_Data {}\n"
     ]
    }
   ],
   "source": [
    "# Iterate over child elements\n",
    "for child in root:\n",
    "    print(child.tag, child.attrib)\n"
   ]
  },
  {
   "cell_type": "markdown",
   "id": "110769ae",
   "metadata": {},
   "source": [
    "# load all point "
   ]
  },
  {
   "cell_type": "code",
   "execution_count": 94,
   "id": "8cc96700",
   "metadata": {},
   "outputs": [],
   "source": [
    "all_points = pd.read_csv(\"/Users/grant/Desktop/mock_df/all_points.csv\")"
   ]
  },
  {
   "cell_type": "code",
   "execution_count": 95,
   "id": "d4c5034c",
   "metadata": {},
   "outputs": [
    {
     "data": {
      "text/html": [
       "<div>\n",
       "<style scoped>\n",
       "    .dataframe tbody tr th:only-of-type {\n",
       "        vertical-align: middle;\n",
       "    }\n",
       "\n",
       "    .dataframe tbody tr th {\n",
       "        vertical-align: top;\n",
       "    }\n",
       "\n",
       "    .dataframe thead th {\n",
       "        text-align: right;\n",
       "    }\n",
       "</style>\n",
       "<table border=\"1\" class=\"dataframe\">\n",
       "  <thead>\n",
       "    <tr style=\"text-align: right;\">\n",
       "      <th></th>\n",
       "      <th>coordinate_raw_axis_0</th>\n",
       "      <th>coordinate_raw_axis_1</th>\n",
       "      <th>coordinate_raw_axis_2</th>\n",
       "      <th>coordinate_atlas_axis_0</th>\n",
       "      <th>coordinate_atlas_axis_1</th>\n",
       "      <th>coordinate_atlas_axis_2</th>\n",
       "      <th>structure_name</th>\n",
       "      <th>hemisphere</th>\n",
       "    </tr>\n",
       "  </thead>\n",
       "  <tbody>\n",
       "    <tr>\n",
       "      <th>0</th>\n",
       "      <td>85</td>\n",
       "      <td>5087</td>\n",
       "      <td>2798</td>\n",
       "      <td>156</td>\n",
       "      <td>5</td>\n",
       "      <td>141</td>\n",
       "      <td>Retrosplenial area, lateral agranular part, la...</td>\n",
       "      <td>left</td>\n",
       "    </tr>\n",
       "    <tr>\n",
       "      <th>1</th>\n",
       "      <td>85</td>\n",
       "      <td>4745</td>\n",
       "      <td>3007</td>\n",
       "      <td>167</td>\n",
       "      <td>5</td>\n",
       "      <td>134</td>\n",
       "      <td>Retrosplenial area, dorsal part, layer 1</td>\n",
       "      <td>left</td>\n",
       "    </tr>\n",
       "    <tr>\n",
       "      <th>2</th>\n",
       "      <td>85</td>\n",
       "      <td>4777</td>\n",
       "      <td>2803</td>\n",
       "      <td>166</td>\n",
       "      <td>5</td>\n",
       "      <td>140</td>\n",
       "      <td>Retrosplenial area, lateral agranular part, la...</td>\n",
       "      <td>left</td>\n",
       "    </tr>\n",
       "    <tr>\n",
       "      <th>3</th>\n",
       "      <td>85</td>\n",
       "      <td>5139</td>\n",
       "      <td>2761</td>\n",
       "      <td>154</td>\n",
       "      <td>5</td>\n",
       "      <td>142</td>\n",
       "      <td>Retrosplenial area, lateral agranular part, la...</td>\n",
       "      <td>left</td>\n",
       "    </tr>\n",
       "    <tr>\n",
       "      <th>4</th>\n",
       "      <td>85</td>\n",
       "      <td>4628</td>\n",
       "      <td>2912</td>\n",
       "      <td>170</td>\n",
       "      <td>5</td>\n",
       "      <td>137</td>\n",
       "      <td>Retrosplenial area, lateral agranular part, la...</td>\n",
       "      <td>left</td>\n",
       "    </tr>\n",
       "    <tr>\n",
       "      <th>...</th>\n",
       "      <td>...</td>\n",
       "      <td>...</td>\n",
       "      <td>...</td>\n",
       "      <td>...</td>\n",
       "      <td>...</td>\n",
       "      <td>...</td>\n",
       "      <td>...</td>\n",
       "      <td>...</td>\n",
       "    </tr>\n",
       "    <tr>\n",
       "      <th>68308</th>\n",
       "      <td>1943</td>\n",
       "      <td>6289</td>\n",
       "      <td>2541</td>\n",
       "      <td>92</td>\n",
       "      <td>149</td>\n",
       "      <td>150</td>\n",
       "      <td>Olfactory tubercle</td>\n",
       "      <td>left</td>\n",
       "    </tr>\n",
       "    <tr>\n",
       "      <th>68309</th>\n",
       "      <td>1943</td>\n",
       "      <td>6421</td>\n",
       "      <td>2530</td>\n",
       "      <td>89</td>\n",
       "      <td>148</td>\n",
       "      <td>150</td>\n",
       "      <td>Olfactory tubercle</td>\n",
       "      <td>left</td>\n",
       "    </tr>\n",
       "    <tr>\n",
       "      <th>68310</th>\n",
       "      <td>1943</td>\n",
       "      <td>6262</td>\n",
       "      <td>2541</td>\n",
       "      <td>93</td>\n",
       "      <td>149</td>\n",
       "      <td>150</td>\n",
       "      <td>Olfactory tubercle</td>\n",
       "      <td>left</td>\n",
       "    </tr>\n",
       "    <tr>\n",
       "      <th>68311</th>\n",
       "      <td>1943</td>\n",
       "      <td>6182</td>\n",
       "      <td>2561</td>\n",
       "      <td>95</td>\n",
       "      <td>149</td>\n",
       "      <td>149</td>\n",
       "      <td>Olfactory tubercle</td>\n",
       "      <td>left</td>\n",
       "    </tr>\n",
       "    <tr>\n",
       "      <th>68312</th>\n",
       "      <td>1943</td>\n",
       "      <td>6202</td>\n",
       "      <td>2521</td>\n",
       "      <td>95</td>\n",
       "      <td>149</td>\n",
       "      <td>150</td>\n",
       "      <td>Olfactory tubercle</td>\n",
       "      <td>left</td>\n",
       "    </tr>\n",
       "  </tbody>\n",
       "</table>\n",
       "<p>68313 rows × 8 columns</p>\n",
       "</div>"
      ],
      "text/plain": [
       "       coordinate_raw_axis_0  coordinate_raw_axis_1  coordinate_raw_axis_2  \\\n",
       "0                         85                   5087                   2798   \n",
       "1                         85                   4745                   3007   \n",
       "2                         85                   4777                   2803   \n",
       "3                         85                   5139                   2761   \n",
       "4                         85                   4628                   2912   \n",
       "...                      ...                    ...                    ...   \n",
       "68308                   1943                   6289                   2541   \n",
       "68309                   1943                   6421                   2530   \n",
       "68310                   1943                   6262                   2541   \n",
       "68311                   1943                   6182                   2561   \n",
       "68312                   1943                   6202                   2521   \n",
       "\n",
       "       coordinate_atlas_axis_0  coordinate_atlas_axis_1  \\\n",
       "0                          156                        5   \n",
       "1                          167                        5   \n",
       "2                          166                        5   \n",
       "3                          154                        5   \n",
       "4                          170                        5   \n",
       "...                        ...                      ...   \n",
       "68308                       92                      149   \n",
       "68309                       89                      148   \n",
       "68310                       93                      149   \n",
       "68311                       95                      149   \n",
       "68312                       95                      149   \n",
       "\n",
       "       coordinate_atlas_axis_2  \\\n",
       "0                          141   \n",
       "1                          134   \n",
       "2                          140   \n",
       "3                          142   \n",
       "4                          137   \n",
       "...                        ...   \n",
       "68308                      150   \n",
       "68309                      150   \n",
       "68310                      150   \n",
       "68311                      149   \n",
       "68312                      150   \n",
       "\n",
       "                                          structure_name hemisphere  \n",
       "0      Retrosplenial area, lateral agranular part, la...       left  \n",
       "1               Retrosplenial area, dorsal part, layer 1       left  \n",
       "2      Retrosplenial area, lateral agranular part, la...       left  \n",
       "3      Retrosplenial area, lateral agranular part, la...       left  \n",
       "4      Retrosplenial area, lateral agranular part, la...       left  \n",
       "...                                                  ...        ...  \n",
       "68308                                 Olfactory tubercle       left  \n",
       "68309                                 Olfactory tubercle       left  \n",
       "68310                                 Olfactory tubercle       left  \n",
       "68311                                 Olfactory tubercle       left  \n",
       "68312                                 Olfactory tubercle       left  \n",
       "\n",
       "[68313 rows x 8 columns]"
      ]
     },
     "execution_count": 95,
     "metadata": {},
     "output_type": "execute_result"
    }
   ],
   "source": [
    "all_points"
   ]
  },
  {
   "cell_type": "markdown",
   "id": "cde10795",
   "metadata": {},
   "source": [
    "# load volumes "
   ]
  },
  {
   "cell_type": "code",
   "execution_count": 97,
   "id": "837c6201",
   "metadata": {},
   "outputs": [],
   "source": [
    "volumes = pd.read_csv(\"/Users/grant/Desktop/mock_df/volumes.csv\")"
   ]
  },
  {
   "cell_type": "code",
   "execution_count": 98,
   "id": "efeffb97",
   "metadata": {},
   "outputs": [
    {
     "data": {
      "text/html": [
       "<div>\n",
       "<style scoped>\n",
       "    .dataframe tbody tr th:only-of-type {\n",
       "        vertical-align: middle;\n",
       "    }\n",
       "\n",
       "    .dataframe tbody tr th {\n",
       "        vertical-align: top;\n",
       "    }\n",
       "\n",
       "    .dataframe thead th {\n",
       "        text-align: right;\n",
       "    }\n",
       "</style>\n",
       "<table border=\"1\" class=\"dataframe\">\n",
       "  <thead>\n",
       "    <tr style=\"text-align: right;\">\n",
       "      <th></th>\n",
       "      <th>structure_name</th>\n",
       "      <th>left_volume_mm3</th>\n",
       "      <th>right_volume_mm3</th>\n",
       "      <th>total_volume_mm3</th>\n",
       "    </tr>\n",
       "  </thead>\n",
       "  <tbody>\n",
       "    <tr>\n",
       "      <th>0</th>\n",
       "      <td>Tuberomammillary nucleus, ventral part</td>\n",
       "      <td>0.071750</td>\n",
       "      <td>0.074000</td>\n",
       "      <td>0.145750</td>\n",
       "    </tr>\n",
       "    <tr>\n",
       "      <th>1</th>\n",
       "      <td>Primary somatosensory area, mouth, layer 6b</td>\n",
       "      <td>0.072375</td>\n",
       "      <td>0.077500</td>\n",
       "      <td>0.149875</td>\n",
       "    </tr>\n",
       "    <tr>\n",
       "      <th>2</th>\n",
       "      <td>internal capsule</td>\n",
       "      <td>1.341625</td>\n",
       "      <td>1.328750</td>\n",
       "      <td>2.670375</td>\n",
       "    </tr>\n",
       "    <tr>\n",
       "      <th>3</th>\n",
       "      <td>Principal sensory nucleus of the trigeminal</td>\n",
       "      <td>0.633875</td>\n",
       "      <td>0.659875</td>\n",
       "      <td>1.293750</td>\n",
       "    </tr>\n",
       "    <tr>\n",
       "      <th>4</th>\n",
       "      <td>Primary somatosensory area, trunk, layer 6a</td>\n",
       "      <td>0.160375</td>\n",
       "      <td>0.163000</td>\n",
       "      <td>0.323375</td>\n",
       "    </tr>\n",
       "    <tr>\n",
       "      <th>...</th>\n",
       "      <td>...</td>\n",
       "      <td>...</td>\n",
       "      <td>...</td>\n",
       "      <td>...</td>\n",
       "    </tr>\n",
       "    <tr>\n",
       "      <th>663</th>\n",
       "      <td>Interpeduncular nucleus, intermediate</td>\n",
       "      <td>0.025500</td>\n",
       "      <td>0.022750</td>\n",
       "      <td>0.048250</td>\n",
       "    </tr>\n",
       "    <tr>\n",
       "      <th>664</th>\n",
       "      <td>Interpeduncular nucleus, dorsomedial</td>\n",
       "      <td>0.013125</td>\n",
       "      <td>0.011875</td>\n",
       "      <td>0.025000</td>\n",
       "    </tr>\n",
       "    <tr>\n",
       "      <th>665</th>\n",
       "      <td>Interpeduncular nucleus, dorsolateral</td>\n",
       "      <td>0.025250</td>\n",
       "      <td>0.025625</td>\n",
       "      <td>0.050875</td>\n",
       "    </tr>\n",
       "    <tr>\n",
       "      <th>666</th>\n",
       "      <td>Interpeduncular nucleus, rostrolateral</td>\n",
       "      <td>0.011250</td>\n",
       "      <td>0.012000</td>\n",
       "      <td>0.023250</td>\n",
       "    </tr>\n",
       "    <tr>\n",
       "      <th>667</th>\n",
       "      <td>Supraoculomotor periaqueductal gray</td>\n",
       "      <td>0.028625</td>\n",
       "      <td>0.026125</td>\n",
       "      <td>0.054750</td>\n",
       "    </tr>\n",
       "  </tbody>\n",
       "</table>\n",
       "<p>668 rows × 4 columns</p>\n",
       "</div>"
      ],
      "text/plain": [
       "                                  structure_name  left_volume_mm3  \\\n",
       "0         Tuberomammillary nucleus, ventral part         0.071750   \n",
       "1    Primary somatosensory area, mouth, layer 6b         0.072375   \n",
       "2                               internal capsule         1.341625   \n",
       "3    Principal sensory nucleus of the trigeminal         0.633875   \n",
       "4    Primary somatosensory area, trunk, layer 6a         0.160375   \n",
       "..                                           ...              ...   \n",
       "663        Interpeduncular nucleus, intermediate         0.025500   \n",
       "664         Interpeduncular nucleus, dorsomedial         0.013125   \n",
       "665        Interpeduncular nucleus, dorsolateral         0.025250   \n",
       "666       Interpeduncular nucleus, rostrolateral         0.011250   \n",
       "667          Supraoculomotor periaqueductal gray         0.028625   \n",
       "\n",
       "     right_volume_mm3  total_volume_mm3  \n",
       "0            0.074000          0.145750  \n",
       "1            0.077500          0.149875  \n",
       "2            1.328750          2.670375  \n",
       "3            0.659875          1.293750  \n",
       "4            0.163000          0.323375  \n",
       "..                ...               ...  \n",
       "663          0.022750          0.048250  \n",
       "664          0.011875          0.025000  \n",
       "665          0.025625          0.050875  \n",
       "666          0.012000          0.023250  \n",
       "667          0.026125          0.054750  \n",
       "\n",
       "[668 rows x 4 columns]"
      ]
     },
     "execution_count": 98,
     "metadata": {},
     "output_type": "execute_result"
    }
   ],
   "source": [
    "volumes"
   ]
  },
  {
   "cell_type": "code",
   "execution_count": null,
   "id": "1de2f12d",
   "metadata": {},
   "outputs": [],
   "source": []
  }
 ],
 "metadata": {
  "kernelspec": {
   "display_name": "Python 3 (ipykernel)",
   "language": "python",
   "name": "python3"
  },
  "language_info": {
   "codemirror_mode": {
    "name": "ipython",
    "version": 3
   },
   "file_extension": ".py",
   "mimetype": "text/x-python",
   "name": "python",
   "nbconvert_exporter": "python",
   "pygments_lexer": "ipython3",
   "version": "3.9.7"
  }
 },
 "nbformat": 4,
 "nbformat_minor": 5
}
